{
 "cells": [
  {
   "cell_type": "markdown",
   "id": "3935adee-0d13-4ecf-bcb6-c5f1f5968cea",
   "metadata": {},
   "source": [
    "# Tarea N°3 Visualización de la Información"
   ]
  },
  {
   "cell_type": "markdown",
   "id": "a76f5528-18be-40d1-928b-dc12e2951a16",
   "metadata": {},
   "source": [
    "Nombre estudiante: Sofía Vits Contreras"
   ]
  },
  {
   "cell_type": "code",
   "execution_count": 1,
   "id": "b63e1f32-1d8b-4777-a44c-6a31c90ff802",
   "metadata": {},
   "outputs": [],
   "source": [
    "import pandas as pd\n",
    "import matplotlib.pyplot as plt\n",
    "import seaborn as sns\n",
    "import numpy as np\n",
    "from flexitext import flexitext\n",
    "from statsmodels.graphics.mosaicplot import mosaic\n",
    "from matplotlib import lines\n",
    "from matplotlib import patches\n",
    "from matplotlib.patheffects import withStroke\n",
    "from matplotlib.patches import Rectangle"
   ]
  },
  {
   "cell_type": "markdown",
   "id": "cbbc6990-a5c5-444d-ab1a-d62b9ddce597",
   "metadata": {},
   "source": [
    "## Análisis exploratorio del dataset\n",
    "\n",
    "En esta sección revisaré el dataset y realizaré gráficos para verificar el tipo de gráfico más adecuado para representar los datos seleccionados"
   ]
  },
  {
   "cell_type": "code",
   "execution_count": 2,
   "id": "c0c94065-36e2-4d3d-989d-30147d2f9bd9",
   "metadata": {},
   "outputs": [],
   "source": [
    "inscritos = pd.read_csv(\"ArchivoB_Adm2024.csv\", delimiter = ';')"
   ]
  },
  {
   "cell_type": "code",
   "execution_count": 3,
   "id": "13c9d88f-1f1a-4764-a331-36accea2578c",
   "metadata": {},
   "outputs": [
    {
     "name": "stdout",
     "output_type": "stream",
     "text": [
      "<class 'pandas.core.frame.DataFrame'>\n",
      "RangeIndex: 306497 entries, 0 to 306496\n",
      "Data columns (total 20 columns):\n",
      " #   Column                      Non-Null Count   Dtype  \n",
      "---  ------                      --------------   -----  \n",
      " 0   ID_aux                      306497 non-null  object \n",
      " 1   ANYO_PROCESO                306497 non-null  int64  \n",
      " 2   FECHA_NACIMIENTO            306497 non-null  int64  \n",
      " 3   RBD                         301597 non-null  float64\n",
      " 4   COD_ENS                     301597 non-null  float64\n",
      " 5   REGIMEN                     276895 non-null  float64\n",
      " 6   RAMA_EDUCACIONAL            301597 non-null  object \n",
      " 7   GRUPO_DEPENDENCIA           301597 non-null  float64\n",
      " 8   ANYO_EGRESO                 306297 non-null  float64\n",
      " 9   CODIGO_REGION               303240 non-null  float64\n",
      " 10  CODIGO_PROVINCIA            303240 non-null  float64\n",
      " 11  CODIGO_COMUNA               301597 non-null  float64\n",
      " 12  CODIGO_REGION_D             306497 non-null  int64  \n",
      " 13  CODIGO_COMUNA_D             306497 non-null  int64  \n",
      " 14  SITUACION_EGRESO            306497 non-null  int64  \n",
      " 15  BEA                         13634 non-null   object \n",
      " 16  PACE                        11202 non-null   object \n",
      " 17  PAIS_NACIMIENTO             306497 non-null  int64  \n",
      " 18  SEXO                        306497 non-null  int64  \n",
      " 19  INGRESO_PERCAPITA_GRUPO_FA  306497 non-null  int64  \n",
      "dtypes: float64(8), int64(8), object(4)\n",
      "memory usage: 46.8+ MB\n"
     ]
    }
   ],
   "source": [
    "inscritos.info()"
   ]
  },
  {
   "cell_type": "code",
   "execution_count": 4,
   "id": "505fbd7e-d407-41e0-ac44-1cfc4ca03c8d",
   "metadata": {},
   "outputs": [
    {
     "data": {
      "text/html": [
       "<div>\n",
       "<style scoped>\n",
       "    .dataframe tbody tr th:only-of-type {\n",
       "        vertical-align: middle;\n",
       "    }\n",
       "\n",
       "    .dataframe tbody tr th {\n",
       "        vertical-align: top;\n",
       "    }\n",
       "\n",
       "    .dataframe thead th {\n",
       "        text-align: right;\n",
       "    }\n",
       "</style>\n",
       "<table border=\"1\" class=\"dataframe\">\n",
       "  <thead>\n",
       "    <tr style=\"text-align: right;\">\n",
       "      <th></th>\n",
       "      <th>ID_aux</th>\n",
       "      <th>ANYO_PROCESO</th>\n",
       "      <th>FECHA_NACIMIENTO</th>\n",
       "      <th>RBD</th>\n",
       "      <th>COD_ENS</th>\n",
       "      <th>REGIMEN</th>\n",
       "      <th>RAMA_EDUCACIONAL</th>\n",
       "      <th>GRUPO_DEPENDENCIA</th>\n",
       "      <th>ANYO_EGRESO</th>\n",
       "      <th>CODIGO_REGION</th>\n",
       "      <th>CODIGO_PROVINCIA</th>\n",
       "      <th>CODIGO_COMUNA</th>\n",
       "      <th>CODIGO_REGION_D</th>\n",
       "      <th>CODIGO_COMUNA_D</th>\n",
       "      <th>SITUACION_EGRESO</th>\n",
       "      <th>BEA</th>\n",
       "      <th>PACE</th>\n",
       "      <th>PAIS_NACIMIENTO</th>\n",
       "      <th>SEXO</th>\n",
       "      <th>INGRESO_PERCAPITA_GRUPO_FA</th>\n",
       "    </tr>\n",
       "  </thead>\n",
       "  <tbody>\n",
       "    <tr>\n",
       "      <th>0</th>\n",
       "      <td>id_5846558574617</td>\n",
       "      <td>2024</td>\n",
       "      <td>12006</td>\n",
       "      <td>1.0</td>\n",
       "      <td>510.0</td>\n",
       "      <td>3.0</td>\n",
       "      <td>T2</td>\n",
       "      <td>4.0</td>\n",
       "      <td>2023.0</td>\n",
       "      <td>15.0</td>\n",
       "      <td>151.0</td>\n",
       "      <td>15101.0</td>\n",
       "      <td>15</td>\n",
       "      <td>15101</td>\n",
       "      <td>1</td>\n",
       "      <td>NaN</td>\n",
       "      <td>NaN</td>\n",
       "      <td>210</td>\n",
       "      <td>1</td>\n",
       "      <td>1</td>\n",
       "    </tr>\n",
       "    <tr>\n",
       "      <th>1</th>\n",
       "      <td>id_9063590676377</td>\n",
       "      <td>2024</td>\n",
       "      <td>72005</td>\n",
       "      <td>1.0</td>\n",
       "      <td>510.0</td>\n",
       "      <td>3.0</td>\n",
       "      <td>T2</td>\n",
       "      <td>4.0</td>\n",
       "      <td>2023.0</td>\n",
       "      <td>15.0</td>\n",
       "      <td>151.0</td>\n",
       "      <td>15101.0</td>\n",
       "      <td>15</td>\n",
       "      <td>15101</td>\n",
       "      <td>1</td>\n",
       "      <td>NaN</td>\n",
       "      <td>NaN</td>\n",
       "      <td>210</td>\n",
       "      <td>2</td>\n",
       "      <td>3</td>\n",
       "    </tr>\n",
       "    <tr>\n",
       "      <th>2</th>\n",
       "      <td>id_9653596675339</td>\n",
       "      <td>2024</td>\n",
       "      <td>122005</td>\n",
       "      <td>1.0</td>\n",
       "      <td>510.0</td>\n",
       "      <td>3.0</td>\n",
       "      <td>T2</td>\n",
       "      <td>4.0</td>\n",
       "      <td>2023.0</td>\n",
       "      <td>15.0</td>\n",
       "      <td>151.0</td>\n",
       "      <td>15101.0</td>\n",
       "      <td>15</td>\n",
       "      <td>15101</td>\n",
       "      <td>1</td>\n",
       "      <td>BEA</td>\n",
       "      <td>PACE</td>\n",
       "      <td>210</td>\n",
       "      <td>1</td>\n",
       "      <td>6</td>\n",
       "    </tr>\n",
       "    <tr>\n",
       "      <th>3</th>\n",
       "      <td>id_096902947324</td>\n",
       "      <td>2024</td>\n",
       "      <td>52004</td>\n",
       "      <td>1.0</td>\n",
       "      <td>510.0</td>\n",
       "      <td>3.0</td>\n",
       "      <td>T2</td>\n",
       "      <td>4.0</td>\n",
       "      <td>2023.0</td>\n",
       "      <td>15.0</td>\n",
       "      <td>151.0</td>\n",
       "      <td>15101.0</td>\n",
       "      <td>15</td>\n",
       "      <td>15101</td>\n",
       "      <td>1</td>\n",
       "      <td>NaN</td>\n",
       "      <td>NaN</td>\n",
       "      <td>244</td>\n",
       "      <td>1</td>\n",
       "      <td>99</td>\n",
       "    </tr>\n",
       "    <tr>\n",
       "      <th>4</th>\n",
       "      <td>id_9610596071061</td>\n",
       "      <td>2024</td>\n",
       "      <td>112005</td>\n",
       "      <td>1.0</td>\n",
       "      <td>510.0</td>\n",
       "      <td>3.0</td>\n",
       "      <td>T2</td>\n",
       "      <td>4.0</td>\n",
       "      <td>2023.0</td>\n",
       "      <td>15.0</td>\n",
       "      <td>151.0</td>\n",
       "      <td>15101.0</td>\n",
       "      <td>15</td>\n",
       "      <td>15101</td>\n",
       "      <td>1</td>\n",
       "      <td>NaN</td>\n",
       "      <td>NaN</td>\n",
       "      <td>210</td>\n",
       "      <td>1</td>\n",
       "      <td>99</td>\n",
       "    </tr>\n",
       "  </tbody>\n",
       "</table>\n",
       "</div>"
      ],
      "text/plain": [
       "             ID_aux  ANYO_PROCESO  FECHA_NACIMIENTO  RBD  COD_ENS  REGIMEN  \\\n",
       "0  id_5846558574617          2024             12006  1.0    510.0      3.0   \n",
       "1  id_9063590676377          2024             72005  1.0    510.0      3.0   \n",
       "2  id_9653596675339          2024            122005  1.0    510.0      3.0   \n",
       "3   id_096902947324          2024             52004  1.0    510.0      3.0   \n",
       "4  id_9610596071061          2024            112005  1.0    510.0      3.0   \n",
       "\n",
       "  RAMA_EDUCACIONAL  GRUPO_DEPENDENCIA  ANYO_EGRESO  CODIGO_REGION  \\\n",
       "0               T2                4.0       2023.0           15.0   \n",
       "1               T2                4.0       2023.0           15.0   \n",
       "2               T2                4.0       2023.0           15.0   \n",
       "3               T2                4.0       2023.0           15.0   \n",
       "4               T2                4.0       2023.0           15.0   \n",
       "\n",
       "   CODIGO_PROVINCIA  CODIGO_COMUNA  CODIGO_REGION_D  CODIGO_COMUNA_D  \\\n",
       "0             151.0        15101.0               15            15101   \n",
       "1             151.0        15101.0               15            15101   \n",
       "2             151.0        15101.0               15            15101   \n",
       "3             151.0        15101.0               15            15101   \n",
       "4             151.0        15101.0               15            15101   \n",
       "\n",
       "   SITUACION_EGRESO  BEA  PACE  PAIS_NACIMIENTO  SEXO  \\\n",
       "0                 1  NaN   NaN              210     1   \n",
       "1                 1  NaN   NaN              210     2   \n",
       "2                 1  BEA  PACE              210     1   \n",
       "3                 1  NaN   NaN              244     1   \n",
       "4                 1  NaN   NaN              210     1   \n",
       "\n",
       "   INGRESO_PERCAPITA_GRUPO_FA  \n",
       "0                           1  \n",
       "1                           3  \n",
       "2                           6  \n",
       "3                          99  \n",
       "4                          99  "
      ]
     },
     "execution_count": 4,
     "metadata": {},
     "output_type": "execute_result"
    }
   ],
   "source": [
    "inscritos.head()"
   ]
  },
  {
   "cell_type": "code",
   "execution_count": 5,
   "id": "50e99c9c-1b42-4463-ba74-fcb3fbc55979",
   "metadata": {},
   "outputs": [],
   "source": [
    "inscritos = inscritos.drop(columns=['ANYO_PROCESO', 'FECHA_NACIMIENTO', 'RBD', 'BEA', 'PACE', 'REGIMEN'])"
   ]
  },
  {
   "cell_type": "code",
   "execution_count": 6,
   "id": "38073fbb-35ca-4ae2-8d5c-62f8c579fdfb",
   "metadata": {},
   "outputs": [
    {
     "name": "stdout",
     "output_type": "stream",
     "text": [
      "<class 'pandas.core.frame.DataFrame'>\n",
      "RangeIndex: 306497 entries, 0 to 306496\n",
      "Data columns (total 14 columns):\n",
      " #   Column                      Non-Null Count   Dtype  \n",
      "---  ------                      --------------   -----  \n",
      " 0   ID_aux                      306497 non-null  object \n",
      " 1   COD_ENS                     301597 non-null  float64\n",
      " 2   RAMA_EDUCACIONAL            301597 non-null  object \n",
      " 3   GRUPO_DEPENDENCIA           301597 non-null  float64\n",
      " 4   ANYO_EGRESO                 306297 non-null  float64\n",
      " 5   CODIGO_REGION               303240 non-null  float64\n",
      " 6   CODIGO_PROVINCIA            303240 non-null  float64\n",
      " 7   CODIGO_COMUNA               301597 non-null  float64\n",
      " 8   CODIGO_REGION_D             306497 non-null  int64  \n",
      " 9   CODIGO_COMUNA_D             306497 non-null  int64  \n",
      " 10  SITUACION_EGRESO            306497 non-null  int64  \n",
      " 11  PAIS_NACIMIENTO             306497 non-null  int64  \n",
      " 12  SEXO                        306497 non-null  int64  \n",
      " 13  INGRESO_PERCAPITA_GRUPO_FA  306497 non-null  int64  \n",
      "dtypes: float64(6), int64(6), object(2)\n",
      "memory usage: 32.7+ MB\n"
     ]
    }
   ],
   "source": [
    "inscritos.info()"
   ]
  },
  {
   "cell_type": "code",
   "execution_count": 7,
   "id": "025cda0e-c409-46f9-93aa-78026e5775f6",
   "metadata": {},
   "outputs": [
    {
     "data": {
      "text/plain": [
       "ID_aux                        0.000000\n",
       "COD_ENS                       1.598711\n",
       "RAMA_EDUCACIONAL              1.598711\n",
       "GRUPO_DEPENDENCIA             1.598711\n",
       "ANYO_EGRESO                   0.065253\n",
       "CODIGO_REGION                 1.062653\n",
       "CODIGO_PROVINCIA              1.062653\n",
       "CODIGO_COMUNA                 1.598711\n",
       "CODIGO_REGION_D               0.000000\n",
       "CODIGO_COMUNA_D               0.000000\n",
       "SITUACION_EGRESO              0.000000\n",
       "PAIS_NACIMIENTO               0.000000\n",
       "SEXO                          0.000000\n",
       "INGRESO_PERCAPITA_GRUPO_FA    0.000000\n",
       "dtype: float64"
      ]
     },
     "execution_count": 7,
     "metadata": {},
     "output_type": "execute_result"
    }
   ],
   "source": [
    "inscritos.isna().sum()/(len(inscritos))*100"
   ]
  },
  {
   "cell_type": "code",
   "execution_count": 8,
   "id": "cb32aede-ccc7-4ee2-a755-cad0a98d1d3d",
   "metadata": {},
   "outputs": [],
   "source": [
    "inscritos = inscritos.dropna()"
   ]
  },
  {
   "cell_type": "code",
   "execution_count": 9,
   "id": "d08210c0-8876-4134-ab2b-c39554339624",
   "metadata": {
    "scrolled": true
   },
   "outputs": [
    {
     "data": {
      "text/plain": [
       "ID_aux                        0\n",
       "COD_ENS                       0\n",
       "RAMA_EDUCACIONAL              0\n",
       "GRUPO_DEPENDENCIA             0\n",
       "ANYO_EGRESO                   0\n",
       "CODIGO_REGION                 0\n",
       "CODIGO_PROVINCIA              0\n",
       "CODIGO_COMUNA                 0\n",
       "CODIGO_REGION_D               0\n",
       "CODIGO_COMUNA_D               0\n",
       "SITUACION_EGRESO              0\n",
       "PAIS_NACIMIENTO               0\n",
       "SEXO                          0\n",
       "INGRESO_PERCAPITA_GRUPO_FA    0\n",
       "dtype: int64"
      ]
     },
     "execution_count": 9,
     "metadata": {},
     "output_type": "execute_result"
    }
   ],
   "source": [
    "inscritos.isna().sum()"
   ]
  },
  {
   "cell_type": "code",
   "execution_count": 10,
   "id": "c02c26c9-f493-4758-bb7c-763b6148873f",
   "metadata": {},
   "outputs": [
    {
     "data": {
      "text/plain": [
       "np.int64(0)"
      ]
     },
     "execution_count": 10,
     "metadata": {},
     "output_type": "execute_result"
    }
   ],
   "source": [
    "inscritos.duplicated().sum()"
   ]
  },
  {
   "cell_type": "code",
   "execution_count": 11,
   "id": "1b6cb8ab-7994-4f98-9e4b-33ef290759fd",
   "metadata": {},
   "outputs": [
    {
     "data": {
      "text/plain": [
       "array(['T2', 'T3', 'H1', 'H2', 'T1', 'T4', 'T5'], dtype=object)"
      ]
     },
     "execution_count": 11,
     "metadata": {},
     "output_type": "execute_result"
    }
   ],
   "source": [
    "inscritos['RAMA_EDUCACIONAL'].unique()"
   ]
  },
  {
   "cell_type": "code",
   "execution_count": 12,
   "id": "670d616b-6f30-4891-b30d-283b0163be19",
   "metadata": {},
   "outputs": [
    {
     "data": {
      "text/plain": [
       "RAMA_EDUCACIONAL\n",
       "H1    206194\n",
       "T2     29492\n",
       "T1     23938\n",
       "T3     21390\n",
       "H2     16869\n",
       "T4      3106\n",
       "T5       608\n",
       "Name: count, dtype: int64"
      ]
     },
     "execution_count": 12,
     "metadata": {},
     "output_type": "execute_result"
    }
   ],
   "source": [
    "inscritos['RAMA_EDUCACIONAL'].value_counts()"
   ]
  },
  {
   "cell_type": "code",
   "execution_count": 13,
   "id": "b80dea61-6039-42be-b638-b11fc6f75ec9",
   "metadata": {},
   "outputs": [
    {
     "data": {
      "text/plain": [
       "array([4., 2., 1., 3.])"
      ]
     },
     "execution_count": 13,
     "metadata": {},
     "output_type": "execute_result"
    }
   ],
   "source": [
    "inscritos['GRUPO_DEPENDENCIA'].unique()"
   ]
  },
  {
   "cell_type": "code",
   "execution_count": 14,
   "id": "3c53d965-d1bd-48f0-bf04-7d1773c17dc7",
   "metadata": {},
   "outputs": [
    {
     "data": {
      "text/plain": [
       "GRUPO_DEPENDENCIA\n",
       "2.0    163051\n",
       "3.0     93446\n",
       "1.0     32215\n",
       "4.0     12885\n",
       "Name: count, dtype: int64"
      ]
     },
     "execution_count": 14,
     "metadata": {},
     "output_type": "execute_result"
    }
   ],
   "source": [
    "inscritos['GRUPO_DEPENDENCIA'].value_counts()"
   ]
  },
  {
   "cell_type": "code",
   "execution_count": 15,
   "id": "815261f6-e594-4920-b7c1-a05c21cd0c87",
   "metadata": {},
   "outputs": [
    {
     "data": {
      "text/plain": [
       "array([2023., 2021., 2022., 2009., 2014., 2020., 2016., 2011., 2019.,\n",
       "       2013., 2005., 2017., 2010., 2015., 2018., 2001., 2012., 1999.,\n",
       "       2008., 2003., 2000., 2004., 1997., 2002., 1994., 2006., 2007.,\n",
       "       1988., 1991., 1989., 1995., 1993., 1996., 1986., 1981., 1998.,\n",
       "       1990., 1982., 1992., 1983., 1984., 1987., 1985.])"
      ]
     },
     "execution_count": 15,
     "metadata": {},
     "output_type": "execute_result"
    }
   ],
   "source": [
    "inscritos['ANYO_EGRESO'].unique()"
   ]
  },
  {
   "cell_type": "code",
   "execution_count": 16,
   "id": "8b78b7e4-70d9-4261-a2ef-129a245e8870",
   "metadata": {},
   "outputs": [
    {
     "data": {
      "text/plain": [
       "ANYO_EGRESO\n",
       "2023.0    201241\n",
       "2022.0     54035\n",
       "2021.0     17581\n",
       "2020.0      8664\n",
       "2019.0      5451\n",
       "2018.0      3513\n",
       "2017.0      2427\n",
       "2016.0      1734\n",
       "2015.0      1347\n",
       "2014.0       967\n",
       "2013.0       783\n",
       "2012.0       629\n",
       "2011.0       513\n",
       "2010.0       474\n",
       "2009.0       354\n",
       "2008.0       297\n",
       "2007.0       243\n",
       "2005.0       212\n",
       "2006.0       204\n",
       "2004.0       164\n",
       "2003.0       133\n",
       "2002.0       110\n",
       "2001.0        81\n",
       "2000.0        61\n",
       "1999.0        49\n",
       "1998.0        37\n",
       "1996.0        34\n",
       "1993.0        31\n",
       "1994.0        31\n",
       "1997.0        29\n",
       "1995.0        24\n",
       "1988.0        21\n",
       "1990.0        20\n",
       "1992.0        20\n",
       "1991.0        17\n",
       "1989.0        13\n",
       "1986.0        11\n",
       "1982.0        11\n",
       "1984.0         8\n",
       "1987.0         7\n",
       "1981.0         6\n",
       "1983.0         5\n",
       "1985.0         5\n",
       "Name: count, dtype: int64"
      ]
     },
     "execution_count": 16,
     "metadata": {},
     "output_type": "execute_result"
    }
   ],
   "source": [
    "inscritos['ANYO_EGRESO'].value_counts()"
   ]
  },
  {
   "cell_type": "code",
   "execution_count": 17,
   "id": "177e5ea8-3d5f-476d-bd4c-b62c0907f3a7",
   "metadata": {},
   "outputs": [
    {
     "data": {
      "text/plain": [
       "array([15.,  1.,  2.,  3.,  4.,  5.,  6.,  7., 16.,  8.,  9., 14., 10.,\n",
       "       11., 12., 13.])"
      ]
     },
     "execution_count": 17,
     "metadata": {},
     "output_type": "execute_result"
    }
   ],
   "source": [
    "inscritos['CODIGO_REGION'].unique()"
   ]
  },
  {
   "cell_type": "code",
   "execution_count": 18,
   "id": "70f174cc-258e-4cf6-a3a0-80242b413a27",
   "metadata": {},
   "outputs": [
    {
     "data": {
      "text/plain": [
       "CODIGO_REGION\n",
       "13.0    116106\n",
       "5.0      30419\n",
       "8.0      28526\n",
       "7.0      19316\n",
       "9.0      17910\n",
       "6.0      16462\n",
       "4.0      14094\n",
       "10.0     13844\n",
       "2.0       9859\n",
       "16.0      8728\n",
       "14.0      6705\n",
       "1.0       5909\n",
       "3.0       4647\n",
       "15.0      4471\n",
       "12.0      2546\n",
       "11.0      2055\n",
       "Name: count, dtype: int64"
      ]
     },
     "execution_count": 18,
     "metadata": {},
     "output_type": "execute_result"
    }
   ],
   "source": [
    "inscritos['CODIGO_REGION'].value_counts()"
   ]
  },
  {
   "cell_type": "code",
   "execution_count": 19,
   "id": "68f0cd4c-a05b-4582-8ba2-2842bf357196",
   "metadata": {},
   "outputs": [
    {
     "data": {
      "text/plain": [
       "array([210, 244, 123, 143, 290,   0, 163, 126, 156, 182, 221, 250, 164,\n",
       "       109, 231, 243, 101, 999, 155, 154, 150, 170, 286, 141, 192, 152,\n",
       "       102, 158, 238, 142, 103, 183])"
      ]
     },
     "execution_count": 19,
     "metadata": {},
     "output_type": "execute_result"
    }
   ],
   "source": [
    "inscritos['PAIS_NACIMIENTO'].unique()"
   ]
  },
  {
   "cell_type": "code",
   "execution_count": 20,
   "id": "5ed1ba24-c027-4025-81df-3382e7224c11",
   "metadata": {},
   "outputs": [
    {
     "data": {
      "text/plain": [
       "PAIS_NACIMIENTO\n",
       "210    276394\n",
       "0       12713\n",
       "290      4350\n",
       "244      2398\n",
       "143      1850\n",
       "123      1493\n",
       "182       781\n",
       "156       496\n",
       "109       347\n",
       "155       155\n",
       "126        77\n",
       "163        60\n",
       "152        60\n",
       "101        58\n",
       "164        46\n",
       "286        43\n",
       "141        43\n",
       "999        39\n",
       "243        38\n",
       "221        37\n",
       "142        15\n",
       "192        14\n",
       "150        12\n",
       "250        11\n",
       "158        11\n",
       "102        10\n",
       "231         9\n",
       "103         9\n",
       "238         8\n",
       "154         7\n",
       "170         7\n",
       "183         6\n",
       "Name: count, dtype: int64"
      ]
     },
     "execution_count": 20,
     "metadata": {},
     "output_type": "execute_result"
    }
   ],
   "source": [
    "inscritos['PAIS_NACIMIENTO'].value_counts()"
   ]
  },
  {
   "cell_type": "code",
   "execution_count": 21,
   "id": "61befd05-2dd3-45e9-a122-33e0a965e668",
   "metadata": {},
   "outputs": [
    {
     "data": {
      "text/plain": [
       "array([510., 610., 310., 363., 410., 710., 810., 563., 463., 663., 910.,\n",
       "       763.])"
      ]
     },
     "execution_count": 21,
     "metadata": {},
     "output_type": "execute_result"
    }
   ],
   "source": [
    "inscritos['COD_ENS'].unique()"
   ]
  },
  {
   "cell_type": "code",
   "execution_count": 22,
   "id": "53df73af-0bb1-4f83-99a4-cce4d8e4c537",
   "metadata": {
    "scrolled": true
   },
   "outputs": [
    {
     "data": {
      "text/plain": [
       "COD_ENS\n",
       "310.0    206194\n",
       "510.0     29308\n",
       "410.0     23876\n",
       "610.0     21083\n",
       "363.0     16869\n",
       "710.0      3076\n",
       "810.0       608\n",
       "663.0       190\n",
       "563.0       184\n",
       "910.0       117\n",
       "463.0        62\n",
       "763.0        30\n",
       "Name: count, dtype: int64"
      ]
     },
     "execution_count": 22,
     "metadata": {},
     "output_type": "execute_result"
    }
   ],
   "source": [
    "inscritos['COD_ENS'].value_counts()"
   ]
  },
  {
   "cell_type": "code",
   "execution_count": 23,
   "id": "4b7375d2-7e82-4364-8f99-351c2a4d896f",
   "metadata": {},
   "outputs": [
    {
     "data": {
      "text/plain": [
       "SEXO\n",
       "2    162052\n",
       "1    139545\n",
       "Name: count, dtype: int64"
      ]
     },
     "execution_count": 23,
     "metadata": {},
     "output_type": "execute_result"
    }
   ],
   "source": [
    "inscritos['SEXO'].value_counts()"
   ]
  },
  {
   "cell_type": "code",
   "execution_count": 24,
   "id": "3fc95b59-aa0c-403a-bd67-6f46dd2098ff",
   "metadata": {},
   "outputs": [
    {
     "data": {
      "text/plain": [
       "INGRESO_PERCAPITA_GRUPO_FA\n",
       "99    77844\n",
       "1     48709\n",
       "2     34999\n",
       "3     24107\n",
       "4     19621\n",
       "8     19484\n",
       "7     18252\n",
       "6     16942\n",
       "5     14673\n",
       "10    13850\n",
       "9     13116\n",
       "Name: count, dtype: int64"
      ]
     },
     "execution_count": 24,
     "metadata": {},
     "output_type": "execute_result"
    }
   ],
   "source": [
    "inscritos['INGRESO_PERCAPITA_GRUPO_FA'].value_counts()"
   ]
  },
  {
   "cell_type": "code",
   "execution_count": 25,
   "id": "1f4cfcff-0260-446c-8aab-b046d0b48a92",
   "metadata": {},
   "outputs": [],
   "source": [
    "inscritos['SEXO'] = inscritos['SEXO'].astype(str)"
   ]
  },
  {
   "cell_type": "code",
   "execution_count": 26,
   "id": "704369c5-6a7a-42b9-97a1-92570e58fe04",
   "metadata": {},
   "outputs": [],
   "source": [
    "inscritos['SEXO'] = inscritos['SEXO'].str.replace(\"1\",\"Hombre\")\n",
    "inscritos['SEXO'] = inscritos['SEXO'].str.replace(\"2\",\"Mujer\")"
   ]
  },
  {
   "cell_type": "code",
   "execution_count": 27,
   "id": "221c7e94-0b87-4109-a475-fbc4b8d88dda",
   "metadata": {},
   "outputs": [
    {
     "data": {
      "text/html": [
       "<div>\n",
       "<style scoped>\n",
       "    .dataframe tbody tr th:only-of-type {\n",
       "        vertical-align: middle;\n",
       "    }\n",
       "\n",
       "    .dataframe tbody tr th {\n",
       "        vertical-align: top;\n",
       "    }\n",
       "\n",
       "    .dataframe thead th {\n",
       "        text-align: right;\n",
       "    }\n",
       "</style>\n",
       "<table border=\"1\" class=\"dataframe\">\n",
       "  <thead>\n",
       "    <tr style=\"text-align: right;\">\n",
       "      <th></th>\n",
       "      <th>ID_aux</th>\n",
       "      <th>COD_ENS</th>\n",
       "      <th>RAMA_EDUCACIONAL</th>\n",
       "      <th>GRUPO_DEPENDENCIA</th>\n",
       "      <th>ANYO_EGRESO</th>\n",
       "      <th>CODIGO_REGION</th>\n",
       "      <th>CODIGO_PROVINCIA</th>\n",
       "      <th>CODIGO_COMUNA</th>\n",
       "      <th>CODIGO_REGION_D</th>\n",
       "      <th>CODIGO_COMUNA_D</th>\n",
       "      <th>SITUACION_EGRESO</th>\n",
       "      <th>PAIS_NACIMIENTO</th>\n",
       "      <th>SEXO</th>\n",
       "      <th>INGRESO_PERCAPITA_GRUPO_FA</th>\n",
       "    </tr>\n",
       "  </thead>\n",
       "  <tbody>\n",
       "    <tr>\n",
       "      <th>0</th>\n",
       "      <td>id_5846558574617</td>\n",
       "      <td>510.0</td>\n",
       "      <td>T2</td>\n",
       "      <td>4.0</td>\n",
       "      <td>2023.0</td>\n",
       "      <td>15.0</td>\n",
       "      <td>151.0</td>\n",
       "      <td>15101.0</td>\n",
       "      <td>15</td>\n",
       "      <td>15101</td>\n",
       "      <td>1</td>\n",
       "      <td>210</td>\n",
       "      <td>Hombre</td>\n",
       "      <td>1</td>\n",
       "    </tr>\n",
       "    <tr>\n",
       "      <th>1</th>\n",
       "      <td>id_9063590676377</td>\n",
       "      <td>510.0</td>\n",
       "      <td>T2</td>\n",
       "      <td>4.0</td>\n",
       "      <td>2023.0</td>\n",
       "      <td>15.0</td>\n",
       "      <td>151.0</td>\n",
       "      <td>15101.0</td>\n",
       "      <td>15</td>\n",
       "      <td>15101</td>\n",
       "      <td>1</td>\n",
       "      <td>210</td>\n",
       "      <td>Mujer</td>\n",
       "      <td>3</td>\n",
       "    </tr>\n",
       "    <tr>\n",
       "      <th>2</th>\n",
       "      <td>id_9653596675339</td>\n",
       "      <td>510.0</td>\n",
       "      <td>T2</td>\n",
       "      <td>4.0</td>\n",
       "      <td>2023.0</td>\n",
       "      <td>15.0</td>\n",
       "      <td>151.0</td>\n",
       "      <td>15101.0</td>\n",
       "      <td>15</td>\n",
       "      <td>15101</td>\n",
       "      <td>1</td>\n",
       "      <td>210</td>\n",
       "      <td>Hombre</td>\n",
       "      <td>6</td>\n",
       "    </tr>\n",
       "    <tr>\n",
       "      <th>3</th>\n",
       "      <td>id_096902947324</td>\n",
       "      <td>510.0</td>\n",
       "      <td>T2</td>\n",
       "      <td>4.0</td>\n",
       "      <td>2023.0</td>\n",
       "      <td>15.0</td>\n",
       "      <td>151.0</td>\n",
       "      <td>15101.0</td>\n",
       "      <td>15</td>\n",
       "      <td>15101</td>\n",
       "      <td>1</td>\n",
       "      <td>244</td>\n",
       "      <td>Hombre</td>\n",
       "      <td>99</td>\n",
       "    </tr>\n",
       "    <tr>\n",
       "      <th>4</th>\n",
       "      <td>id_9610596071061</td>\n",
       "      <td>510.0</td>\n",
       "      <td>T2</td>\n",
       "      <td>4.0</td>\n",
       "      <td>2023.0</td>\n",
       "      <td>15.0</td>\n",
       "      <td>151.0</td>\n",
       "      <td>15101.0</td>\n",
       "      <td>15</td>\n",
       "      <td>15101</td>\n",
       "      <td>1</td>\n",
       "      <td>210</td>\n",
       "      <td>Hombre</td>\n",
       "      <td>99</td>\n",
       "    </tr>\n",
       "    <tr>\n",
       "      <th>5</th>\n",
       "      <td>id_9726597872673</td>\n",
       "      <td>510.0</td>\n",
       "      <td>T2</td>\n",
       "      <td>4.0</td>\n",
       "      <td>2021.0</td>\n",
       "      <td>15.0</td>\n",
       "      <td>151.0</td>\n",
       "      <td>15101.0</td>\n",
       "      <td>15</td>\n",
       "      <td>15101</td>\n",
       "      <td>5</td>\n",
       "      <td>210</td>\n",
       "      <td>Hombre</td>\n",
       "      <td>99</td>\n",
       "    </tr>\n",
       "    <tr>\n",
       "      <th>6</th>\n",
       "      <td>id_9543595874361</td>\n",
       "      <td>510.0</td>\n",
       "      <td>T2</td>\n",
       "      <td>4.0</td>\n",
       "      <td>2023.0</td>\n",
       "      <td>15.0</td>\n",
       "      <td>151.0</td>\n",
       "      <td>15101.0</td>\n",
       "      <td>15</td>\n",
       "      <td>15101</td>\n",
       "      <td>1</td>\n",
       "      <td>210</td>\n",
       "      <td>Mujer</td>\n",
       "      <td>1</td>\n",
       "    </tr>\n",
       "    <tr>\n",
       "      <th>7</th>\n",
       "      <td>id_5880558478050</td>\n",
       "      <td>510.0</td>\n",
       "      <td>T2</td>\n",
       "      <td>4.0</td>\n",
       "      <td>2023.0</td>\n",
       "      <td>15.0</td>\n",
       "      <td>151.0</td>\n",
       "      <td>15101.0</td>\n",
       "      <td>15</td>\n",
       "      <td>15101</td>\n",
       "      <td>1</td>\n",
       "      <td>210</td>\n",
       "      <td>Hombre</td>\n",
       "      <td>8</td>\n",
       "    </tr>\n",
       "    <tr>\n",
       "      <th>8</th>\n",
       "      <td>id_4017540971786</td>\n",
       "      <td>510.0</td>\n",
       "      <td>T2</td>\n",
       "      <td>4.0</td>\n",
       "      <td>2023.0</td>\n",
       "      <td>15.0</td>\n",
       "      <td>151.0</td>\n",
       "      <td>15101.0</td>\n",
       "      <td>15</td>\n",
       "      <td>15101</td>\n",
       "      <td>1</td>\n",
       "      <td>123</td>\n",
       "      <td>Hombre</td>\n",
       "      <td>6</td>\n",
       "    </tr>\n",
       "    <tr>\n",
       "      <th>9</th>\n",
       "      <td>id_9095590479500</td>\n",
       "      <td>510.0</td>\n",
       "      <td>T2</td>\n",
       "      <td>4.0</td>\n",
       "      <td>2023.0</td>\n",
       "      <td>15.0</td>\n",
       "      <td>151.0</td>\n",
       "      <td>15101.0</td>\n",
       "      <td>15</td>\n",
       "      <td>15101</td>\n",
       "      <td>1</td>\n",
       "      <td>210</td>\n",
       "      <td>Hombre</td>\n",
       "      <td>1</td>\n",
       "    </tr>\n",
       "  </tbody>\n",
       "</table>\n",
       "</div>"
      ],
      "text/plain": [
       "             ID_aux  COD_ENS RAMA_EDUCACIONAL  GRUPO_DEPENDENCIA  ANYO_EGRESO  \\\n",
       "0  id_5846558574617    510.0               T2                4.0       2023.0   \n",
       "1  id_9063590676377    510.0               T2                4.0       2023.0   \n",
       "2  id_9653596675339    510.0               T2                4.0       2023.0   \n",
       "3   id_096902947324    510.0               T2                4.0       2023.0   \n",
       "4  id_9610596071061    510.0               T2                4.0       2023.0   \n",
       "5  id_9726597872673    510.0               T2                4.0       2021.0   \n",
       "6  id_9543595874361    510.0               T2                4.0       2023.0   \n",
       "7  id_5880558478050    510.0               T2                4.0       2023.0   \n",
       "8  id_4017540971786    510.0               T2                4.0       2023.0   \n",
       "9  id_9095590479500    510.0               T2                4.0       2023.0   \n",
       "\n",
       "   CODIGO_REGION  CODIGO_PROVINCIA  CODIGO_COMUNA  CODIGO_REGION_D  \\\n",
       "0           15.0             151.0        15101.0               15   \n",
       "1           15.0             151.0        15101.0               15   \n",
       "2           15.0             151.0        15101.0               15   \n",
       "3           15.0             151.0        15101.0               15   \n",
       "4           15.0             151.0        15101.0               15   \n",
       "5           15.0             151.0        15101.0               15   \n",
       "6           15.0             151.0        15101.0               15   \n",
       "7           15.0             151.0        15101.0               15   \n",
       "8           15.0             151.0        15101.0               15   \n",
       "9           15.0             151.0        15101.0               15   \n",
       "\n",
       "   CODIGO_COMUNA_D  SITUACION_EGRESO  PAIS_NACIMIENTO    SEXO  \\\n",
       "0            15101                 1              210  Hombre   \n",
       "1            15101                 1              210   Mujer   \n",
       "2            15101                 1              210  Hombre   \n",
       "3            15101                 1              244  Hombre   \n",
       "4            15101                 1              210  Hombre   \n",
       "5            15101                 5              210  Hombre   \n",
       "6            15101                 1              210   Mujer   \n",
       "7            15101                 1              210  Hombre   \n",
       "8            15101                 1              123  Hombre   \n",
       "9            15101                 1              210  Hombre   \n",
       "\n",
       "   INGRESO_PERCAPITA_GRUPO_FA  \n",
       "0                           1  \n",
       "1                           3  \n",
       "2                           6  \n",
       "3                          99  \n",
       "4                          99  \n",
       "5                          99  \n",
       "6                           1  \n",
       "7                           8  \n",
       "8                           6  \n",
       "9                           1  "
      ]
     },
     "execution_count": 27,
     "metadata": {},
     "output_type": "execute_result"
    }
   ],
   "source": [
    "inscritos.head(10)"
   ]
  },
  {
   "cell_type": "code",
   "execution_count": 28,
   "id": "19961a43-9917-4467-a353-c00e0174b8d0",
   "metadata": {},
   "outputs": [
    {
     "data": {
      "text/plain": [
       "SEXO\n",
       "Mujer     162052\n",
       "Hombre    139545\n",
       "Name: count, dtype: int64"
      ]
     },
     "execution_count": 28,
     "metadata": {},
     "output_type": "execute_result"
    }
   ],
   "source": [
    "inscritos['SEXO'].value_counts()"
   ]
  },
  {
   "cell_type": "code",
   "execution_count": 29,
   "id": "39358fff-5416-4bcf-a877-50b1a9a4028e",
   "metadata": {},
   "outputs": [
    {
     "data": {
      "text/html": [
       "<div>\n",
       "<style scoped>\n",
       "    .dataframe tbody tr th:only-of-type {\n",
       "        vertical-align: middle;\n",
       "    }\n",
       "\n",
       "    .dataframe tbody tr th {\n",
       "        vertical-align: top;\n",
       "    }\n",
       "\n",
       "    .dataframe thead th {\n",
       "        text-align: right;\n",
       "    }\n",
       "</style>\n",
       "<table border=\"1\" class=\"dataframe\">\n",
       "  <thead>\n",
       "    <tr style=\"text-align: right;\">\n",
       "      <th></th>\n",
       "      <th>ID_aux</th>\n",
       "      <th>COD_ENS</th>\n",
       "      <th>RAMA_EDUCACIONAL</th>\n",
       "      <th>GRUPO_DEPENDENCIA</th>\n",
       "      <th>ANYO_EGRESO</th>\n",
       "      <th>CODIGO_REGION</th>\n",
       "      <th>CODIGO_PROVINCIA</th>\n",
       "      <th>CODIGO_COMUNA</th>\n",
       "      <th>CODIGO_REGION_D</th>\n",
       "      <th>CODIGO_COMUNA_D</th>\n",
       "      <th>SITUACION_EGRESO</th>\n",
       "      <th>PAIS_NACIMIENTO</th>\n",
       "      <th>SEXO</th>\n",
       "      <th>INGRESO_PERCAPITA_GRUPO_FA</th>\n",
       "    </tr>\n",
       "  </thead>\n",
       "  <tbody>\n",
       "    <tr>\n",
       "      <th>0</th>\n",
       "      <td>id_5846558574617</td>\n",
       "      <td>510.0</td>\n",
       "      <td>T2</td>\n",
       "      <td>4.0</td>\n",
       "      <td>2023.0</td>\n",
       "      <td>15.0</td>\n",
       "      <td>151.0</td>\n",
       "      <td>15101.0</td>\n",
       "      <td>15</td>\n",
       "      <td>15101</td>\n",
       "      <td>1</td>\n",
       "      <td>210</td>\n",
       "      <td>Hombre</td>\n",
       "      <td>1</td>\n",
       "    </tr>\n",
       "    <tr>\n",
       "      <th>1</th>\n",
       "      <td>id_9063590676377</td>\n",
       "      <td>510.0</td>\n",
       "      <td>T2</td>\n",
       "      <td>4.0</td>\n",
       "      <td>2023.0</td>\n",
       "      <td>15.0</td>\n",
       "      <td>151.0</td>\n",
       "      <td>15101.0</td>\n",
       "      <td>15</td>\n",
       "      <td>15101</td>\n",
       "      <td>1</td>\n",
       "      <td>210</td>\n",
       "      <td>Mujer</td>\n",
       "      <td>3</td>\n",
       "    </tr>\n",
       "    <tr>\n",
       "      <th>2</th>\n",
       "      <td>id_9653596675339</td>\n",
       "      <td>510.0</td>\n",
       "      <td>T2</td>\n",
       "      <td>4.0</td>\n",
       "      <td>2023.0</td>\n",
       "      <td>15.0</td>\n",
       "      <td>151.0</td>\n",
       "      <td>15101.0</td>\n",
       "      <td>15</td>\n",
       "      <td>15101</td>\n",
       "      <td>1</td>\n",
       "      <td>210</td>\n",
       "      <td>Hombre</td>\n",
       "      <td>6</td>\n",
       "    </tr>\n",
       "    <tr>\n",
       "      <th>3</th>\n",
       "      <td>id_096902947324</td>\n",
       "      <td>510.0</td>\n",
       "      <td>T2</td>\n",
       "      <td>4.0</td>\n",
       "      <td>2023.0</td>\n",
       "      <td>15.0</td>\n",
       "      <td>151.0</td>\n",
       "      <td>15101.0</td>\n",
       "      <td>15</td>\n",
       "      <td>15101</td>\n",
       "      <td>1</td>\n",
       "      <td>244</td>\n",
       "      <td>Hombre</td>\n",
       "      <td>99</td>\n",
       "    </tr>\n",
       "    <tr>\n",
       "      <th>4</th>\n",
       "      <td>id_9610596071061</td>\n",
       "      <td>510.0</td>\n",
       "      <td>T2</td>\n",
       "      <td>4.0</td>\n",
       "      <td>2023.0</td>\n",
       "      <td>15.0</td>\n",
       "      <td>151.0</td>\n",
       "      <td>15101.0</td>\n",
       "      <td>15</td>\n",
       "      <td>15101</td>\n",
       "      <td>1</td>\n",
       "      <td>210</td>\n",
       "      <td>Hombre</td>\n",
       "      <td>99</td>\n",
       "    </tr>\n",
       "  </tbody>\n",
       "</table>\n",
       "</div>"
      ],
      "text/plain": [
       "             ID_aux  COD_ENS RAMA_EDUCACIONAL  GRUPO_DEPENDENCIA  ANYO_EGRESO  \\\n",
       "0  id_5846558574617    510.0               T2                4.0       2023.0   \n",
       "1  id_9063590676377    510.0               T2                4.0       2023.0   \n",
       "2  id_9653596675339    510.0               T2                4.0       2023.0   \n",
       "3   id_096902947324    510.0               T2                4.0       2023.0   \n",
       "4  id_9610596071061    510.0               T2                4.0       2023.0   \n",
       "\n",
       "   CODIGO_REGION  CODIGO_PROVINCIA  CODIGO_COMUNA  CODIGO_REGION_D  \\\n",
       "0           15.0             151.0        15101.0               15   \n",
       "1           15.0             151.0        15101.0               15   \n",
       "2           15.0             151.0        15101.0               15   \n",
       "3           15.0             151.0        15101.0               15   \n",
       "4           15.0             151.0        15101.0               15   \n",
       "\n",
       "   CODIGO_COMUNA_D  SITUACION_EGRESO  PAIS_NACIMIENTO    SEXO  \\\n",
       "0            15101                 1              210  Hombre   \n",
       "1            15101                 1              210   Mujer   \n",
       "2            15101                 1              210  Hombre   \n",
       "3            15101                 1              244  Hombre   \n",
       "4            15101                 1              210  Hombre   \n",
       "\n",
       "   INGRESO_PERCAPITA_GRUPO_FA  \n",
       "0                           1  \n",
       "1                           3  \n",
       "2                           6  \n",
       "3                          99  \n",
       "4                          99  "
      ]
     },
     "execution_count": 29,
     "metadata": {},
     "output_type": "execute_result"
    }
   ],
   "source": [
    "inscritos.head()"
   ]
  },
  {
   "cell_type": "code",
   "execution_count": 30,
   "id": "674a9053-2f73-46b0-b794-3b3174835c84",
   "metadata": {},
   "outputs": [],
   "source": [
    "inscritos['COD_ENS'] = inscritos['COD_ENS'].astype(str)"
   ]
  },
  {
   "cell_type": "code",
   "execution_count": 31,
   "id": "c0359b79-78d5-4e95-898b-9a1b17ba1e7a",
   "metadata": {},
   "outputs": [],
   "source": [
    "inscritos['COD_ENS'] = inscritos['COD_ENS'].str.replace(\"310.0\",\"H-C Jóvenes\")\n",
    "inscritos['COD_ENS'] = inscritos['COD_ENS'].str.replace(\"510.0\",\"T-P Industrial Jóvenes\")\n",
    "inscritos['COD_ENS'] = inscritos['COD_ENS'].str.replace(\"410.0\",\"T-P Comercial Jóvenes\")\n",
    "inscritos['COD_ENS'] = inscritos['COD_ENS'].str.replace(\"610.0\",\"T-P Técnica Jóvenes\")\n",
    "inscritos['COD_ENS'] = inscritos['COD_ENS'].str.replace(\"363.0\",\"H-C Adultos\")\n",
    "inscritos['COD_ENS'] = inscritos['COD_ENS'].str.replace(\"710.0\",\"T-P Agrícola Jóvenes\")\n",
    "inscritos['COD_ENS'] = inscritos['COD_ENS'].str.replace(\"810.0\",\"T-P Marítima Jóvenes\")\n",
    "inscritos['COD_ENS'] = inscritos['COD_ENS'].str.replace(\"663.0\",\"T-P Técnica Adultos\")\n",
    "inscritos['COD_ENS'] = inscritos['COD_ENS'].str.replace(\"563.0\",\"T-P Industrial Adultos\")\n",
    "inscritos['COD_ENS'] = inscritos['COD_ENS'].str.replace(\"910.0\",\"Artística Jóvenes\")\n",
    "inscritos['COD_ENS'] = inscritos['COD_ENS'].str.replace(\"463.0\",\"T-P Comercial Adultos\")\n",
    "inscritos['COD_ENS'] = inscritos['COD_ENS'].str.replace(\"763.0\",\"T-P Agrícola Adultos\")"
   ]
  },
  {
   "cell_type": "code",
   "execution_count": 32,
   "id": "50f329a1-84a6-46dc-a590-3dc358d80dea",
   "metadata": {},
   "outputs": [
    {
     "data": {
      "text/html": [
       "<div>\n",
       "<style scoped>\n",
       "    .dataframe tbody tr th:only-of-type {\n",
       "        vertical-align: middle;\n",
       "    }\n",
       "\n",
       "    .dataframe tbody tr th {\n",
       "        vertical-align: top;\n",
       "    }\n",
       "\n",
       "    .dataframe thead th {\n",
       "        text-align: right;\n",
       "    }\n",
       "</style>\n",
       "<table border=\"1\" class=\"dataframe\">\n",
       "  <thead>\n",
       "    <tr style=\"text-align: right;\">\n",
       "      <th></th>\n",
       "      <th>ID_aux</th>\n",
       "      <th>COD_ENS</th>\n",
       "      <th>RAMA_EDUCACIONAL</th>\n",
       "      <th>GRUPO_DEPENDENCIA</th>\n",
       "      <th>ANYO_EGRESO</th>\n",
       "      <th>CODIGO_REGION</th>\n",
       "      <th>CODIGO_PROVINCIA</th>\n",
       "      <th>CODIGO_COMUNA</th>\n",
       "      <th>CODIGO_REGION_D</th>\n",
       "      <th>CODIGO_COMUNA_D</th>\n",
       "      <th>SITUACION_EGRESO</th>\n",
       "      <th>PAIS_NACIMIENTO</th>\n",
       "      <th>SEXO</th>\n",
       "      <th>INGRESO_PERCAPITA_GRUPO_FA</th>\n",
       "    </tr>\n",
       "  </thead>\n",
       "  <tbody>\n",
       "    <tr>\n",
       "      <th>0</th>\n",
       "      <td>id_5846558574617</td>\n",
       "      <td>T-P Industrial Jóvenes</td>\n",
       "      <td>T2</td>\n",
       "      <td>4.0</td>\n",
       "      <td>2023.0</td>\n",
       "      <td>15.0</td>\n",
       "      <td>151.0</td>\n",
       "      <td>15101.0</td>\n",
       "      <td>15</td>\n",
       "      <td>15101</td>\n",
       "      <td>1</td>\n",
       "      <td>210</td>\n",
       "      <td>Hombre</td>\n",
       "      <td>1</td>\n",
       "    </tr>\n",
       "    <tr>\n",
       "      <th>1</th>\n",
       "      <td>id_9063590676377</td>\n",
       "      <td>T-P Industrial Jóvenes</td>\n",
       "      <td>T2</td>\n",
       "      <td>4.0</td>\n",
       "      <td>2023.0</td>\n",
       "      <td>15.0</td>\n",
       "      <td>151.0</td>\n",
       "      <td>15101.0</td>\n",
       "      <td>15</td>\n",
       "      <td>15101</td>\n",
       "      <td>1</td>\n",
       "      <td>210</td>\n",
       "      <td>Mujer</td>\n",
       "      <td>3</td>\n",
       "    </tr>\n",
       "    <tr>\n",
       "      <th>2</th>\n",
       "      <td>id_9653596675339</td>\n",
       "      <td>T-P Industrial Jóvenes</td>\n",
       "      <td>T2</td>\n",
       "      <td>4.0</td>\n",
       "      <td>2023.0</td>\n",
       "      <td>15.0</td>\n",
       "      <td>151.0</td>\n",
       "      <td>15101.0</td>\n",
       "      <td>15</td>\n",
       "      <td>15101</td>\n",
       "      <td>1</td>\n",
       "      <td>210</td>\n",
       "      <td>Hombre</td>\n",
       "      <td>6</td>\n",
       "    </tr>\n",
       "    <tr>\n",
       "      <th>3</th>\n",
       "      <td>id_096902947324</td>\n",
       "      <td>T-P Industrial Jóvenes</td>\n",
       "      <td>T2</td>\n",
       "      <td>4.0</td>\n",
       "      <td>2023.0</td>\n",
       "      <td>15.0</td>\n",
       "      <td>151.0</td>\n",
       "      <td>15101.0</td>\n",
       "      <td>15</td>\n",
       "      <td>15101</td>\n",
       "      <td>1</td>\n",
       "      <td>244</td>\n",
       "      <td>Hombre</td>\n",
       "      <td>99</td>\n",
       "    </tr>\n",
       "    <tr>\n",
       "      <th>4</th>\n",
       "      <td>id_9610596071061</td>\n",
       "      <td>T-P Industrial Jóvenes</td>\n",
       "      <td>T2</td>\n",
       "      <td>4.0</td>\n",
       "      <td>2023.0</td>\n",
       "      <td>15.0</td>\n",
       "      <td>151.0</td>\n",
       "      <td>15101.0</td>\n",
       "      <td>15</td>\n",
       "      <td>15101</td>\n",
       "      <td>1</td>\n",
       "      <td>210</td>\n",
       "      <td>Hombre</td>\n",
       "      <td>99</td>\n",
       "    </tr>\n",
       "  </tbody>\n",
       "</table>\n",
       "</div>"
      ],
      "text/plain": [
       "             ID_aux                 COD_ENS RAMA_EDUCACIONAL  \\\n",
       "0  id_5846558574617  T-P Industrial Jóvenes               T2   \n",
       "1  id_9063590676377  T-P Industrial Jóvenes               T2   \n",
       "2  id_9653596675339  T-P Industrial Jóvenes               T2   \n",
       "3   id_096902947324  T-P Industrial Jóvenes               T2   \n",
       "4  id_9610596071061  T-P Industrial Jóvenes               T2   \n",
       "\n",
       "   GRUPO_DEPENDENCIA  ANYO_EGRESO  CODIGO_REGION  CODIGO_PROVINCIA  \\\n",
       "0                4.0       2023.0           15.0             151.0   \n",
       "1                4.0       2023.0           15.0             151.0   \n",
       "2                4.0       2023.0           15.0             151.0   \n",
       "3                4.0       2023.0           15.0             151.0   \n",
       "4                4.0       2023.0           15.0             151.0   \n",
       "\n",
       "   CODIGO_COMUNA  CODIGO_REGION_D  CODIGO_COMUNA_D  SITUACION_EGRESO  \\\n",
       "0        15101.0               15            15101                 1   \n",
       "1        15101.0               15            15101                 1   \n",
       "2        15101.0               15            15101                 1   \n",
       "3        15101.0               15            15101                 1   \n",
       "4        15101.0               15            15101                 1   \n",
       "\n",
       "   PAIS_NACIMIENTO    SEXO  INGRESO_PERCAPITA_GRUPO_FA  \n",
       "0              210  Hombre                           1  \n",
       "1              210   Mujer                           3  \n",
       "2              210  Hombre                           6  \n",
       "3              244  Hombre                          99  \n",
       "4              210  Hombre                          99  "
      ]
     },
     "execution_count": 32,
     "metadata": {},
     "output_type": "execute_result"
    }
   ],
   "source": [
    "inscritos.head()"
   ]
  },
  {
   "cell_type": "code",
   "execution_count": 33,
   "id": "3415e033-f179-49cd-86d8-b31c977b8da5",
   "metadata": {},
   "outputs": [
    {
     "data": {
      "text/plain": [
       "array(['T-P Industrial Jóvenes', 'T-P Técnica Jóvenes', 'H-C Jóvenes',\n",
       "       'H-C Adultos', 'T-P Comercial Jóvenes', 'T-P Agrícola Jóvenes',\n",
       "       'T-P Marítima Jóvenes', 'T-P Industrial Adultos',\n",
       "       'T-P Comercial Adultos', 'T-P Técnica Adultos',\n",
       "       'Artística Jóvenes', 'T-P Agrícola Adultos'], dtype=object)"
      ]
     },
     "execution_count": 33,
     "metadata": {},
     "output_type": "execute_result"
    }
   ],
   "source": [
    "inscritos['COD_ENS'].unique()"
   ]
  },
  {
   "cell_type": "code",
   "execution_count": 34,
   "id": "68cee2ee-1601-43e3-a995-78c4c0146c90",
   "metadata": {},
   "outputs": [],
   "source": [
    "from sklearn.preprocessing import normalize\n",
    "\n",
    "def normalize_rows(df):\n",
    "    df = pd.DataFrame(normalize(df, norm='l1'), index=df.index, columns=df.columns)\n",
    "    return df\n",
    "\n",
    "def normalize_columns(df):\n",
    "    df = pd.DataFrame(normalize(df, norm='l1', axis=0), index=df.index, columns=df.columns)\n",
    "    return df\n",
    "\n"
   ]
  },
  {
   "cell_type": "code",
   "execution_count": 35,
   "id": "41ad103d-212c-4edb-8367-79f4af8ef86e",
   "metadata": {},
   "outputs": [
    {
     "data": {
      "text/html": [
       "<div>\n",
       "<style scoped>\n",
       "    .dataframe tbody tr th:only-of-type {\n",
       "        vertical-align: middle;\n",
       "    }\n",
       "\n",
       "    .dataframe tbody tr th {\n",
       "        vertical-align: top;\n",
       "    }\n",
       "\n",
       "    .dataframe thead th {\n",
       "        text-align: right;\n",
       "    }\n",
       "</style>\n",
       "<table border=\"1\" class=\"dataframe\">\n",
       "  <thead>\n",
       "    <tr style=\"text-align: right;\">\n",
       "      <th>SEXO</th>\n",
       "      <th>Hombre</th>\n",
       "      <th>Mujer</th>\n",
       "    </tr>\n",
       "    <tr>\n",
       "      <th>COD_ENS</th>\n",
       "      <th></th>\n",
       "      <th></th>\n",
       "    </tr>\n",
       "  </thead>\n",
       "  <tbody>\n",
       "    <tr>\n",
       "      <th>Artística Jóvenes</th>\n",
       "      <td>0.470085</td>\n",
       "      <td>0.529915</td>\n",
       "    </tr>\n",
       "    <tr>\n",
       "      <th>H-C Adultos</th>\n",
       "      <td>0.478214</td>\n",
       "      <td>0.521786</td>\n",
       "    </tr>\n",
       "    <tr>\n",
       "      <th>H-C Jóvenes</th>\n",
       "      <td>0.453529</td>\n",
       "      <td>0.546471</td>\n",
       "    </tr>\n",
       "    <tr>\n",
       "      <th>T-P Agrícola Adultos</th>\n",
       "      <td>0.966667</td>\n",
       "      <td>0.033333</td>\n",
       "    </tr>\n",
       "    <tr>\n",
       "      <th>T-P Agrícola Jóvenes</th>\n",
       "      <td>0.538036</td>\n",
       "      <td>0.461964</td>\n",
       "    </tr>\n",
       "  </tbody>\n",
       "</table>\n",
       "</div>"
      ],
      "text/plain": [
       "SEXO                    Hombre     Mujer\n",
       "COD_ENS                                 \n",
       "Artística Jóvenes     0.470085  0.529915\n",
       "H-C Adultos           0.478214  0.521786\n",
       "H-C Jóvenes           0.453529  0.546471\n",
       "T-P Agrícola Adultos  0.966667  0.033333\n",
       "T-P Agrícola Jóvenes  0.538036  0.461964"
      ]
     },
     "execution_count": 35,
     "metadata": {},
     "output_type": "execute_result"
    }
   ],
   "source": [
    "establecimientos_sexo = (\n",
    "    inscritos.groupby(['COD_ENS','SEXO'])\n",
    "        .agg(n_inscritos=('SEXO', 'count'))\n",
    "    ['n_inscritos'].unstack(fill_value=0)\n",
    "    .pipe(normalize_rows)\n",
    ")\n",
    "\n",
    "establecimientos_sexo.head()"
   ]
  },
  {
   "cell_type": "code",
   "execution_count": 36,
   "id": "b585a5a5-480b-41a8-a1ca-b8810bb180db",
   "metadata": {},
   "outputs": [],
   "source": [
    "establecimientos_sexo = establecimientos_sexo[establecimientos_sexo.select_dtypes(include=['number']).columns] * 100"
   ]
  },
  {
   "cell_type": "code",
   "execution_count": 37,
   "id": "fdad7a1d-8d5a-4301-a29e-771087d18495",
   "metadata": {},
   "outputs": [
    {
     "data": {
      "image/png": "[encoded data removed]",
      "text/plain": [
       "<Figure size 1000x1400 with 2 Axes>"
      ]
     },
     "metadata": {},
     "output_type": "display_data"
    }
   ],
   "source": [
    "plt.figure(figsize=(10, 14))\n",
    "sns.heatmap(establecimientos_sexo, cmap='magma_r', square=True, linewidths=1, \n",
    "            cbar_kws={'shrink': 0.3, 'label': 'Fracción de matrículas'})\n",
    "plt.xlabel('Sexo Estudiante')\n",
    "plt.ylabel('Rama Educacional')\n",
    "plt.show()"
   ]
  },
  {
   "cell_type": "code",
   "execution_count": 38,
   "id": "646f4bf2-b75e-481c-8d06-b57625d4c948",
   "metadata": {},
   "outputs": [
    {
     "data": {
      "image/png": "[encoded data removed]",
      "text/plain": [
       "<Figure size 3000x1500 with 3 Axes>"
      ]
     },
     "metadata": {},
     "output_type": "display_data"
    }
   ],
   "source": [
    "plt.rcParams[\"figure.figsize\"] = [30.00, 15.00]\n",
    "plt.rcParams[\"figure.autolayout\"] = True\n",
    "mosaic(inscritos, ['RAMA_EDUCACIONAL', 'SEXO'], title='Ramas educacionales divididas por sexo')\n",
    "plt.show()"
   ]
  },
  {
   "cell_type": "code",
   "execution_count": 39,
   "id": "8e1ff60f-44d8-400e-883c-ad5f09e57e31",
   "metadata": {},
   "outputs": [],
   "source": [
    "H_C = ['H1', 'H2']\n",
    "TP_sexo = inscritos.query('RAMA_EDUCACIONAL not in @H_C')"
   ]
  },
  {
   "cell_type": "code",
   "execution_count": 40,
   "id": "d9280b8a-0558-45c7-a454-0f31a487ff9c",
   "metadata": {},
   "outputs": [
    {
     "data": {
      "text/html": [
       "<div>\n",
       "<style scoped>\n",
       "    .dataframe tbody tr th:only-of-type {\n",
       "        vertical-align: middle;\n",
       "    }\n",
       "\n",
       "    .dataframe tbody tr th {\n",
       "        vertical-align: top;\n",
       "    }\n",
       "\n",
       "    .dataframe thead th {\n",
       "        text-align: right;\n",
       "    }\n",
       "</style>\n",
       "<table border=\"1\" class=\"dataframe\">\n",
       "  <thead>\n",
       "    <tr style=\"text-align: right;\">\n",
       "      <th></th>\n",
       "      <th>ID_aux</th>\n",
       "      <th>COD_ENS</th>\n",
       "      <th>RAMA_EDUCACIONAL</th>\n",
       "      <th>GRUPO_DEPENDENCIA</th>\n",
       "      <th>ANYO_EGRESO</th>\n",
       "      <th>CODIGO_REGION</th>\n",
       "      <th>CODIGO_PROVINCIA</th>\n",
       "      <th>CODIGO_COMUNA</th>\n",
       "      <th>CODIGO_REGION_D</th>\n",
       "      <th>CODIGO_COMUNA_D</th>\n",
       "      <th>SITUACION_EGRESO</th>\n",
       "      <th>PAIS_NACIMIENTO</th>\n",
       "      <th>SEXO</th>\n",
       "      <th>INGRESO_PERCAPITA_GRUPO_FA</th>\n",
       "    </tr>\n",
       "  </thead>\n",
       "  <tbody>\n",
       "    <tr>\n",
       "      <th>0</th>\n",
       "      <td>id_5846558574617</td>\n",
       "      <td>T-P Industrial Jóvenes</td>\n",
       "      <td>T2</td>\n",
       "      <td>4.0</td>\n",
       "      <td>2023.0</td>\n",
       "      <td>15.0</td>\n",
       "      <td>151.0</td>\n",
       "      <td>15101.0</td>\n",
       "      <td>15</td>\n",
       "      <td>15101</td>\n",
       "      <td>1</td>\n",
       "      <td>210</td>\n",
       "      <td>Hombre</td>\n",
       "      <td>1</td>\n",
       "    </tr>\n",
       "    <tr>\n",
       "      <th>1</th>\n",
       "      <td>id_9063590676377</td>\n",
       "      <td>T-P Industrial Jóvenes</td>\n",
       "      <td>T2</td>\n",
       "      <td>4.0</td>\n",
       "      <td>2023.0</td>\n",
       "      <td>15.0</td>\n",
       "      <td>151.0</td>\n",
       "      <td>15101.0</td>\n",
       "      <td>15</td>\n",
       "      <td>15101</td>\n",
       "      <td>1</td>\n",
       "      <td>210</td>\n",
       "      <td>Mujer</td>\n",
       "      <td>3</td>\n",
       "    </tr>\n",
       "    <tr>\n",
       "      <th>2</th>\n",
       "      <td>id_9653596675339</td>\n",
       "      <td>T-P Industrial Jóvenes</td>\n",
       "      <td>T2</td>\n",
       "      <td>4.0</td>\n",
       "      <td>2023.0</td>\n",
       "      <td>15.0</td>\n",
       "      <td>151.0</td>\n",
       "      <td>15101.0</td>\n",
       "      <td>15</td>\n",
       "      <td>15101</td>\n",
       "      <td>1</td>\n",
       "      <td>210</td>\n",
       "      <td>Hombre</td>\n",
       "      <td>6</td>\n",
       "    </tr>\n",
       "    <tr>\n",
       "      <th>3</th>\n",
       "      <td>id_096902947324</td>\n",
       "      <td>T-P Industrial Jóvenes</td>\n",
       "      <td>T2</td>\n",
       "      <td>4.0</td>\n",
       "      <td>2023.0</td>\n",
       "      <td>15.0</td>\n",
       "      <td>151.0</td>\n",
       "      <td>15101.0</td>\n",
       "      <td>15</td>\n",
       "      <td>15101</td>\n",
       "      <td>1</td>\n",
       "      <td>244</td>\n",
       "      <td>Hombre</td>\n",
       "      <td>99</td>\n",
       "    </tr>\n",
       "    <tr>\n",
       "      <th>4</th>\n",
       "      <td>id_9610596071061</td>\n",
       "      <td>T-P Industrial Jóvenes</td>\n",
       "      <td>T2</td>\n",
       "      <td>4.0</td>\n",
       "      <td>2023.0</td>\n",
       "      <td>15.0</td>\n",
       "      <td>151.0</td>\n",
       "      <td>15101.0</td>\n",
       "      <td>15</td>\n",
       "      <td>15101</td>\n",
       "      <td>1</td>\n",
       "      <td>210</td>\n",
       "      <td>Hombre</td>\n",
       "      <td>99</td>\n",
       "    </tr>\n",
       "  </tbody>\n",
       "</table>\n",
       "</div>"
      ],
      "text/plain": [
       "             ID_aux                 COD_ENS RAMA_EDUCACIONAL  \\\n",
       "0  id_5846558574617  T-P Industrial Jóvenes               T2   \n",
       "1  id_9063590676377  T-P Industrial Jóvenes               T2   \n",
       "2  id_9653596675339  T-P Industrial Jóvenes               T2   \n",
       "3   id_096902947324  T-P Industrial Jóvenes               T2   \n",
       "4  id_9610596071061  T-P Industrial Jóvenes               T2   \n",
       "\n",
       "   GRUPO_DEPENDENCIA  ANYO_EGRESO  CODIGO_REGION  CODIGO_PROVINCIA  \\\n",
       "0                4.0       2023.0           15.0             151.0   \n",
       "1                4.0       2023.0           15.0             151.0   \n",
       "2                4.0       2023.0           15.0             151.0   \n",
       "3                4.0       2023.0           15.0             151.0   \n",
       "4                4.0       2023.0           15.0             151.0   \n",
       "\n",
       "   CODIGO_COMUNA  CODIGO_REGION_D  CODIGO_COMUNA_D  SITUACION_EGRESO  \\\n",
       "0        15101.0               15            15101                 1   \n",
       "1        15101.0               15            15101                 1   \n",
       "2        15101.0               15            15101                 1   \n",
       "3        15101.0               15            15101                 1   \n",
       "4        15101.0               15            15101                 1   \n",
       "\n",
       "   PAIS_NACIMIENTO    SEXO  INGRESO_PERCAPITA_GRUPO_FA  \n",
       "0              210  Hombre                           1  \n",
       "1              210   Mujer                           3  \n",
       "2              210  Hombre                           6  \n",
       "3              244  Hombre                          99  \n",
       "4              210  Hombre                          99  "
      ]
     },
     "execution_count": 40,
     "metadata": {},
     "output_type": "execute_result"
    }
   ],
   "source": [
    "TP_sexo.head()"
   ]
  },
  {
   "cell_type": "code",
   "execution_count": 41,
   "id": "bee425c8-50e6-4e41-b3b4-ed589d7c7ab6",
   "metadata": {},
   "outputs": [
    {
     "data": {
      "image/png": "[encoded data removed]",
      "text/plain": [
       "<Figure size 2000x1200 with 3 Axes>"
      ]
     },
     "metadata": {},
     "output_type": "display_data"
    }
   ],
   "source": [
    "plt.rcParams[\"figure.figsize\"] = [20.00, 12.00]\n",
    "plt.rcParams[\"figure.autolayout\"] = True\n",
    "mosaic(TP_sexo, ['RAMA_EDUCACIONAL', 'SEXO'], title='Ramas educacionales técnico-profesionales divididas por sexo')\n",
    "plt.show()"
   ]
  },
  {
   "cell_type": "code",
   "execution_count": 42,
   "id": "5e8c874b-338c-4dac-a073-33bd8b61747f",
   "metadata": {},
   "outputs": [
    {
     "data": {
      "text/html": [
       "<div>\n",
       "<style scoped>\n",
       "    .dataframe tbody tr th:only-of-type {\n",
       "        vertical-align: middle;\n",
       "    }\n",
       "\n",
       "    .dataframe tbody tr th {\n",
       "        vertical-align: top;\n",
       "    }\n",
       "\n",
       "    .dataframe thead th {\n",
       "        text-align: right;\n",
       "    }\n",
       "</style>\n",
       "<table border=\"1\" class=\"dataframe\">\n",
       "  <thead>\n",
       "    <tr style=\"text-align: right;\">\n",
       "      <th>COD_ENS</th>\n",
       "      <th>Artística Jóvenes</th>\n",
       "      <th>T-P Agrícola Adultos</th>\n",
       "      <th>T-P Agrícola Jóvenes</th>\n",
       "      <th>T-P Comercial Adultos</th>\n",
       "      <th>T-P Comercial Jóvenes</th>\n",
       "      <th>T-P Industrial Adultos</th>\n",
       "      <th>T-P Industrial Jóvenes</th>\n",
       "      <th>T-P Marítima Jóvenes</th>\n",
       "      <th>T-P Técnica Adultos</th>\n",
       "      <th>T-P Técnica Jóvenes</th>\n",
       "    </tr>\n",
       "    <tr>\n",
       "      <th>SEXO</th>\n",
       "      <th></th>\n",
       "      <th></th>\n",
       "      <th></th>\n",
       "      <th></th>\n",
       "      <th></th>\n",
       "      <th></th>\n",
       "      <th></th>\n",
       "      <th></th>\n",
       "      <th></th>\n",
       "      <th></th>\n",
       "    </tr>\n",
       "  </thead>\n",
       "  <tbody>\n",
       "    <tr>\n",
       "      <th>Hombre</th>\n",
       "      <td>55</td>\n",
       "      <td>29</td>\n",
       "      <td>1655</td>\n",
       "      <td>19</td>\n",
       "      <td>9030</td>\n",
       "      <td>168</td>\n",
       "      <td>22161</td>\n",
       "      <td>333</td>\n",
       "      <td>26</td>\n",
       "      <td>4487</td>\n",
       "    </tr>\n",
       "    <tr>\n",
       "      <th>Mujer</th>\n",
       "      <td>62</td>\n",
       "      <td>1</td>\n",
       "      <td>1421</td>\n",
       "      <td>43</td>\n",
       "      <td>14846</td>\n",
       "      <td>16</td>\n",
       "      <td>7147</td>\n",
       "      <td>275</td>\n",
       "      <td>164</td>\n",
       "      <td>16596</td>\n",
       "    </tr>\n",
       "  </tbody>\n",
       "</table>\n",
       "</div>"
      ],
      "text/plain": [
       "COD_ENS  Artística Jóvenes  T-P Agrícola Adultos  T-P Agrícola Jóvenes  \\\n",
       "SEXO                                                                     \n",
       "Hombre                  55                    29                  1655   \n",
       "Mujer                   62                     1                  1421   \n",
       "\n",
       "COD_ENS  T-P Comercial Adultos  T-P Comercial Jóvenes  T-P Industrial Adultos  \\\n",
       "SEXO                                                                            \n",
       "Hombre                      19                   9030                     168   \n",
       "Mujer                       43                  14846                      16   \n",
       "\n",
       "COD_ENS  T-P Industrial Jóvenes  T-P Marítima Jóvenes  T-P Técnica Adultos  \\\n",
       "SEXO                                                                         \n",
       "Hombre                    22161                   333                   26   \n",
       "Mujer                      7147                   275                  164   \n",
       "\n",
       "COD_ENS  T-P Técnica Jóvenes  \n",
       "SEXO                          \n",
       "Hombre                  4487  \n",
       "Mujer                  16596  "
      ]
     },
     "execution_count": 42,
     "metadata": {},
     "output_type": "execute_result"
    }
   ],
   "source": [
    "TP = (\n",
    "    TP_sexo.groupby(['SEXO','COD_ENS'])\n",
    "        .agg(n_inscritos=('COD_ENS', 'count'))\n",
    "    ['n_inscritos'].unstack(fill_value=0)\n",
    ")\n",
    "\n",
    "TP.head()"
   ]
  },
  {
   "cell_type": "code",
   "execution_count": 43,
   "id": "890c3019-26b4-4a3b-8a43-fa26e8913cb9",
   "metadata": {},
   "outputs": [
    {
     "data": {
      "image/png": "[encoded data removed]",
      "text/plain": [
       "<Figure size 1400x1400 with 2 Axes>"
      ]
     },
     "metadata": {},
     "output_type": "display_data"
    }
   ],
   "source": [
    "plt.figure(figsize=(14, 14))\n",
    "sns.heatmap(TP, cmap='magma_r', square=True, linewidths=1, \n",
    "            cbar_kws={'shrink': 0.3, 'label': 'Número de matrículas'})\n",
    "plt.xlabel('Enseñanza Establecimiento')\n",
    "plt.ylabel('Sexo Estudiante')\n",
    "plt.show()"
   ]
  },
  {
   "cell_type": "markdown",
   "id": "8cac38dd-b83d-4eaf-8336-1385030dcdc3",
   "metadata": {},
   "source": [
    "## Gráfico seleccionado \n",
    "\n",
    "En este paso se modificará un heatmap que compara el porcentaje de hombres y mujeres inscritos para rendir la prueba PAES año 2024 egresados de diferentes\n",
    "ramas educacionales"
   ]
  },
  {
   "cell_type": "code",
   "execution_count": 44,
   "id": "b1ccc80a-3cac-406a-9f91-05e0ba3b9991",
   "metadata": {},
   "outputs": [],
   "source": [
    "df_rama_transposed = establecimientos_sexo.transpose()"
   ]
  },
  {
   "cell_type": "code",
   "execution_count": 46,
   "id": "810548b9-d57f-4840-9f5e-5a164a52f4b8",
   "metadata": {},
   "outputs": [
    {
     "data": {
      "image/png": "[encoded data removed]",
      "text/plain": [
       "<Figure size 1200x1000 with 2 Axes>"
      ]
     },
     "metadata": {},
     "output_type": "display_data"
    }
   ],
   "source": [
    "plt.rcParams[\"font.family\"] = \"Roboto\"\n",
    "\n",
    "fig, ax = plt.subplots(1,1, figsize=(12, 10))\n",
    "\n",
    "\n",
    "my_gradient = sns.diverging_palette(145, 300, s=60, as_cmap=True)\n",
    "\n",
    "sns.heatmap(df_rama_transposed, cmap = my_gradient, square=True, linewidths=0.5, \n",
    "            cbar_kws={'shrink': 0.15, 'location': 'right'})\n",
    "\n",
    "\n",
    "ax.text(-1, -5, \"Existe mayor disparidad entre sexos en los inscritos PAES 2024 egresados de la Educación Técnico Profesional para Adultos\", \n",
    "        fontsize=14, fontweight=600, ha='left')\n",
    "\n",
    "ax.text(-1, -4.3, \"La educación Técnica Profesional Comercial es la excepción a esta regla\", \n",
    "        fontsize=12, fontweight=600, ha='left')\n",
    "\n",
    "ax.xaxis.set_ticks_position('none')\n",
    "ax.yaxis.set_ticks_position('none')\n",
    "ax.xaxis.set_label_text(\"\")\n",
    "ax.yaxis.set_label_text(\"\")\n",
    "\n",
    "\n",
    "fig.add_artist(lines.Line2D([0.01, 1], [1, 1], lw=3, color='#e3120b', solid_capstyle=\"butt\"))\n",
    "fig.add_artist(patches.Rectangle((0.01, 0.975), 0.05, 0.025, color='#e3120b'))\n",
    "\n",
    "source = 'Fuente: \"Inscritos Proceso de Admisión 2024\", DEMRE'\n",
    "fig.text(\n",
    "    0.6, 0.15, source, color=\"#a2a2a2\", \n",
    "    fontsize=10, fontfamily=\"Roboto\"\n",
    ")\n",
    "\n",
    "ax.axhline(1.99, 0.25, 0.416, color = 'black', linewidth=0.8 )\n",
    "ax.add_patch(Rectangle((3, 0), 2, 2, fill=None, alpha=1))\n",
    "\n",
    "ax.text(-1,-3.7, 'H-C = Humanista-Científico', fontsize=10, fontweight=300)\n",
    "ax.text(-1,-3.4, 'T-P = Técnico-Profesional', fontsize=10, fontweight=300)\n",
    "\n",
    "ax.text(2.5,-1.5, 'La disparidad entre los sexos de los\\negresados es mayor en la Educación\\nMedia Técnico-Profesional para Adultos', fontsize=11, fontweight=400)\n",
    "\n",
    "ax.text(5, 5, \"Rama educacional\", \n",
    "        fontsize=12, fontweight=600, ha='left')\n",
    "\n",
    "\n",
    "plt.text(14, 0.05, 'Porcentaje de egresados', color = 'black', rotation = 90, rotation_mode = 'anchor', transform_rotates_text = True)\n",
    "\n",
    "plt.text(-0.8, 1.8, 'Sexo egresado', color = 'black', rotation = 270, rotation_mode = 'anchor', fontsize=12, fontweight=600, transform_rotates_text = True)\n",
    "\n",
    "\n",
    "plt.show()"
   ]
  },
  {
   "cell_type": "code",
   "execution_count": null,
   "id": "0ad350a3-19cf-44a0-a6cf-e3440e1e8abc",
   "metadata": {},
   "outputs": [],
   "source": []
  }
 ],
 "metadata": {
  "kernelspec": {
   "display_name": "dataviz",
   "language": "python",
   "name": "dataviz"
  },
  "language_info": {
   "codemirror_mode": {
    "name": "ipython",
    "version": 3
   },
   "file_extension": ".py",
   "mimetype": "text/x-python",
   "name": "python",
   "nbconvert_exporter": "python",
   "pygments_lexer": "ipython3",
   "version": "3.12.6"
  }
 },
 "nbformat": 4,
 "nbformat_minor": 5
}
